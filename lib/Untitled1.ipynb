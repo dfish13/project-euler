{
 "cells": [
  {
   "cell_type": "code",
   "execution_count": 2,
   "id": "49f40fec",
   "metadata": {},
   "outputs": [],
   "source": [
    "import numpy as np\n",
    "\n",
    "NTESTS = 1000\n",
    "paths = []\n",
    "NVERTICES = 50\n",
    "V = np.arange(NVERTICES)\n",
    "\n",
    "from graph import *\n",
    "def test():\n",
    "    g = Graph(gen_random_graph(NVERTICES, 2))\n",
    "    p = np.random.choice(V, size=2)\n",
    "    return g.shortest_path(*p)\n",
    "\n",
    "results = [test() for _ in range(NTESTS)]"
   ]
  },
  {
   "cell_type": "code",
   "execution_count": 3,
   "id": "2fae4e5d",
   "metadata": {},
   "outputs": [
    {
     "name": "stdout",
     "output_type": "stream",
     "text": [
      "[[32, 8, 41, 11], None, [27, 38], [34, 27, 31, 11, 44, 7, 21, 43, 36], [6, 3, 22, 46, 44, 18]]\n"
     ]
    }
   ],
   "source": [
    "print(results[:5])"
   ]
  },
  {
   "cell_type": "code",
   "execution_count": 6,
   "id": "b8f62b7d",
   "metadata": {},
   "outputs": [],
   "source": [
    "def test(v, e):\n",
    "    g = Graph(gen_random_graph(v, e))\n",
    "    p = np.random.choice(v, size=2)\n",
    "    return g.shortest_path(*p)"
   ]
  },
  {
   "cell_type": "code",
   "execution_count": 14,
   "id": "9f1d6242",
   "metadata": {},
   "outputs": [],
   "source": [
    "vCounts = [x ** 2 for x in range(3, 10)]\n",
    "eCounts = list(range(1, 8))\n",
    "\n",
    "m, n = len(vCounts), len(eCounts)\n",
    "\n",
    "results = np.zeros((m, n))\n",
    "\n",
    "for i in range(m):\n",
    "    for j in range(n):\n",
    "        for _ in range(NTESTS):\n",
    "            p = test(vCounts[i], eCounts[j])\n",
    "            if p is not None:\n",
    "                results[i][j] += 1"
   ]
  },
  {
   "cell_type": "code",
   "execution_count": 15,
   "id": "d26b3b6b",
   "metadata": {},
   "outputs": [
    {
     "name": "stdout",
     "output_type": "stream",
     "text": [
      "[[ 358.  774.  917.  972.  991.  997.  998.]\n",
      " [ 308.  783.  946.  979.  989.  996. 1000.]\n",
      " [ 230.  782.  934.  972.  987.  997.  999.]\n",
      " [ 219.  794.  949.  986.  990.  998. 1000.]\n",
      " [ 154.  801.  928.  982.  992.  995.  999.]\n",
      " [ 158.  785.  934.  972.  992.  998.  996.]\n",
      " [ 134.  801.  948.  972.  990.  999.  999.]]\n"
     ]
    }
   ],
   "source": [
    "print(results)"
   ]
  },
  {
   "cell_type": "code",
   "execution_count": null,
   "id": "05b46308",
   "metadata": {},
   "outputs": [],
   "source": []
  }
 ],
 "metadata": {
  "kernelspec": {
   "display_name": "Python 3 (ipykernel)",
   "language": "python",
   "name": "python3"
  },
  "language_info": {
   "codemirror_mode": {
    "name": "ipython",
    "version": 3
   },
   "file_extension": ".py",
   "mimetype": "text/x-python",
   "name": "python",
   "nbconvert_exporter": "python",
   "pygments_lexer": "ipython3",
   "version": "3.8.10"
  }
 },
 "nbformat": 4,
 "nbformat_minor": 5
}
